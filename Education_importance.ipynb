{
  "nbformat": 4,
  "nbformat_minor": 0,
  "metadata": {
    "colab": {
      "name": "Education importance.ipynb",
      "provenance": [],
      "authorship_tag": "ABX9TyNRfdynkLujeguN+5tMGWfz",
      "include_colab_link": true
    },
    "kernelspec": {
      "name": "python3",
      "display_name": "Python 3"
    },
    "language_info": {
      "name": "python"
    }
  },
  "cells": [
    {
      "cell_type": "markdown",
      "metadata": {
        "id": "view-in-github",
        "colab_type": "text"
      },
      "source": [
        "<a href=\"https://colab.research.google.com/github/AntsaHoneywinner/TwistChallengeModule3/blob/main/Education_importance.ipynb\" target=\"_parent\"><img src=\"https://colab.research.google.com/assets/colab-badge.svg\" alt=\"Open In Colab\"/></a>"
      ]
    },
    {
      "cell_type": "markdown",
      "source": [
        "# How important is education in Africa?\n",
        "## Insight from the Gdelt 2.0 \n",
        "\n",
        "[GitHub link is here.](https://github.com/AntsaHoneywinner/TwistChallengeModule3/)\n",
        "\n",
        "### The challenge: Sentiment analysis of the news about education\n",
        "\n",
        "- How much news in Africa is on education daily/monthly/early?\n",
        "- Are they positive/negative news ? \n",
        "\n",
        "   \n",
        "\n"
      ],
      "metadata": {
        "id": "3WMWMGYVrrAh"
      }
    },
    {
      "cell_type": "code",
      "source": [
        "# mounting my google drive to access my files\n",
        "\n",
        "from google.colab import drive\n",
        "drive.mount('/content/gdrive', force_remount=True)"
      ],
      "metadata": {
        "colab": {
          "base_uri": "https://localhost:8080/"
        },
        "id": "Rv4FeZwGyrc3",
        "outputId": "41424660-930f-4454-9631-d743d1540cad"
      },
      "execution_count": null,
      "outputs": [
        {
          "output_type": "stream",
          "name": "stdout",
          "text": [
            "Mounted at /content/gdrive\n"
          ]
        }
      ]
    },
    {
      "cell_type": "code",
      "source": [
        "ls gdrive/MyDrive/TwistChallengeModule3/'my data'"
      ],
      "metadata": {
        "colab": {
          "base_uri": "https://localhost:8080/"
        },
        "id": "DuAFSvWoL8g0",
        "outputId": "8610e9f3-89bc-4715-91f9-a2ab495cb883"
      },
      "execution_count": null,
      "outputs": [
        {
          "output_type": "stream",
          "name": "stdout",
          "text": [
            "africa.geo.json\n"
          ]
        }
      ]
    },
    {
      "cell_type": "markdown",
      "source": [
        "### Architecture :\n",
        "\n",
        "[to edit the diagram](https://lucid.app/lucidchart/639ad72b-6f50-4481-87e5-b6b839577e64/edit?invitationId=inv_b95acbb9-c21e-424a-873f-38f7fec6cc47&page=0_0#)\n",
        "\n",
        "![Diagram1.png](data:image/png;base64,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)"
      ],
      "metadata": {
        "id": "nBx09qY4veg2"
      }
    },
    {
      "cell_type": "markdown",
      "source": [
        "#### Tools for the visualization \n",
        "\n",
        "Check\n",
        "[this ](https://medium.com/geekculture/three-ways-to-plot-choropleth-map-using-python-f53799a3e623) and [this](https://holoviews.org/gallery/demos/bokeh/texas_choropleth_example.html#demos-bokeh-gallery-texas-choropleth-example).\n",
        "\n",
        "\n",
        "For the [Geojson go here.](https://geojson-maps.ash.ms/)\n",
        "\n",
        "For accessing the database [go here.](https://www.kaggle.com/code/chasset/load-gdelt-data-with-bigquery)\n",
        "\n",
        "\n",
        "My own [copy of it](https://www.kaggle.com/code/antsarakotondrafara/load-gdelt-data-with-bigquery/edit)."
      ],
      "metadata": {
        "id": "qZJnwesF2tQv"
      }
    },
    {
      "cell_type": "markdown",
      "source": [
        "Timeline :\n",
        "\n",
        "\n",
        "4/15/2022 : Load all the data from bigquery to my google drive\n",
        "\n",
        "4/16/2022 : Come up with the EDA and Sentiment analysis.\n",
        "\n",
        "4/17/2022 : Come up with the visualization."
      ],
      "metadata": {
        "id": "MrJVnuK5_OIW"
      }
    },
    {
      "cell_type": "markdown",
      "source": [
        "I followed this [YouTube video](https://www.youtube.com/watch?v=iolQX4XJN2A) and this [pretty notebook](https://colab.research.google.com/notebooks/bigquery.ipynb#scrollTo=SeTJb51SKs_W) to access Bigquery on Colab."
      ],
      "metadata": {
        "id": "Hz4BV5QviDsA"
      }
    },
    {
      "cell_type": "code",
      "execution_count": null,
      "metadata": {
        "id": "xMmdh39croiy"
      },
      "outputs": [],
      "source": [
        "# # installing the Google Bigquery library\n",
        "# !pip install --upgrade google-cloud-bigquery"
      ]
    },
    {
      "cell_type": "markdown",
      "source": [
        ""
      ],
      "metadata": {
        "id": "B654Hjpsrq9A"
      }
    },
    {
      "cell_type": "code",
      "source": [
        "# !pip install google.cloud"
      ],
      "metadata": {
        "colab": {
          "base_uri": "https://localhost:8080/"
        },
        "id": "zMXse6yMmlG0",
        "outputId": "40106d65-1115-4789-aad9-4436b847402a"
      },
      "execution_count": null,
      "outputs": [
        {
          "output_type": "stream",
          "name": "stdout",
          "text": [
            "Collecting google.cloud\n",
            "  Downloading google_cloud-0.34.0-py2.py3-none-any.whl (1.8 kB)\n",
            "Installing collected packages: google.cloud\n",
            "Successfully installed google.cloud-0.34.0\n"
          ]
        }
      ]
    },
    {
      "cell_type": "markdown",
      "source": [
        "### Setting up Bigquery in Colab"
      ],
      "metadata": {
        "id": "s6NnvCmYHBsZ"
      }
    },
    {
      "cell_type": "code",
      "source": [
        "from google.colab import auth\n",
        "auth.authenticate_user()\n",
        "print('Authenticated')"
      ],
      "metadata": {
        "colab": {
          "base_uri": "https://localhost:8080/"
        },
        "id": "798VQTkKOMV4",
        "outputId": "02daecd5-31a1-42b9-faa4-3d8ee333039a"
      },
      "execution_count": null,
      "outputs": [
        {
          "output_type": "stream",
          "name": "stdout",
          "text": [
            "Authenticated\n"
          ]
        }
      ]
    },
    {
      "cell_type": "code",
      "source": [
        "from google.colab import drive\n",
        "drive.mount('/content/gdrive', force_remount=True)"
      ],
      "metadata": {
        "colab": {
          "base_uri": "https://localhost:8080/"
        },
        "id": "nCmGy-VFKGuf",
        "outputId": "e6400e11-a945-4661-e604-9c000b694b1f"
      },
      "execution_count": null,
      "outputs": [
        {
          "output_type": "stream",
          "name": "stdout",
          "text": [
            "Mounted at /content/gdrive\n"
          ]
        }
      ]
    },
    {
      "cell_type": "markdown",
      "source": [
        "### Importing required libraries"
      ],
      "metadata": {
        "id": "ascwW_HMJgek"
      }
    },
    {
      "cell_type": "code",
      "source": [
        "import pandas as pd\n",
        "from google.cloud import bigquery\n",
        "import csv\n",
        "#variables\n",
        "project_id = 'twist-challenge-module-3'\n",
        "#connections\n",
        "client = bigquery.Client(project=project_id)\n",
        "# result to dataframe function\n",
        "def querytodf(query, csvname) :\n",
        "  df = pd.io.gbq.read_gbq(query, project_id=project_id, dialect='standard')\n",
        "\n",
        "  print(df.head())\n",
        "  dfcsv = df.to_csv(csvname)\n",
        "  return df "
      ],
      "metadata": {
        "id": "orTBvw0cmiFs"
      },
      "execution_count": null,
      "outputs": []
    },
    {
      "cell_type": "markdown",
      "source": [
        "Now that we see the querying works here, we are going to query all news in African country from 2012 to 2022 and we will group those by country and theme."
      ],
      "metadata": {
        "id": "-PD5E0HDSlNF"
      }
    },
    {
      "cell_type": "markdown",
      "source": [
        "I will use this function to make my query."
      ],
      "metadata": {
        "id": "pB55yXttInBn"
      }
    },
    {
      "cell_type": "code",
      "source": [
        " def makequery(country,year  ) :\n",
        "    \n",
        "    return('''SELECT\n",
        "    '''+ \"'\" + country +'''' AS country,\n",
        "    '''+ \"'\" + year +'''' AS year,\n",
        "    REGEXP_REPLACE(theme , r',.*', \" \") AS theme,\n",
        "    COUNT(*) AS count,\n",
        "  FROM\n",
        "    `gdelt-bq.gdeltv2.gkg`,\n",
        "    UNNEST(SPLIT(V2Themes,';')) AS theme\n",
        "  WHERE\n",
        "    DATE> ''' +year+ '''0101000000\n",
        "    AND DATE < ''' +year+ '''1231000000\n",
        "    AND Locations LIKE '%'''+country +'''%' \n",
        "  GROUP BY\n",
        "    theme\n",
        "  ORDER BY\n",
        "    4 DESC''')"
      ],
      "metadata": {
        "id": "u2hQMDp3HIZ4"
      },
      "execution_count": null,
      "outputs": []
    },
    {
      "cell_type": "code",
      "source": [
        "cd gdrive/MyDrive/TwistChallengeModule3/'my data'"
      ],
      "metadata": {
        "colab": {
          "base_uri": "https://localhost:8080/"
        },
        "id": "510xz-zDMZy4",
        "outputId": "f49af5e5-2e89-4641-ae5e-33eb37cf6b28"
      },
      "execution_count": null,
      "outputs": [
        {
          "output_type": "stream",
          "name": "stdout",
          "text": [
            "[Errno 2] No such file or directory: 'gdrive/MyDrive/TwistChallengeModule3/my data'\n",
            "/content/gdrive/MyDrive/TwistChallengeModule3/my data\n"
          ]
        }
      ]
    },
    {
      "cell_type": "code",
      "source": [
        "#@markdown For you to select the country { run: \"auto\" }\n",
        "\n",
        "country = \"Madagascar\" #@param [\"Madagascar\", \"South Africa\", \"Ghana\",\"Burundi\"]\n",
        "print(makequery(country, '2022' ))\n"
      ],
      "metadata": {
        "colab": {
          "base_uri": "https://localhost:8080/"
        },
        "id": "vpO5bXXNBYex",
        "outputId": "2c367041-aa87-4a70-ede2-1aba60c35dfd"
      },
      "execution_count": null,
      "outputs": [
        {
          "output_type": "stream",
          "name": "stdout",
          "text": [
            "SELECT\n",
            "   'Madagascar' AS country,\n",
            "   '2022' AS year,\n",
            "   REGEXP_REPLACE(theme , r',.*', \" \") AS theme,\n",
            "   COUNT(*) AS count,\n",
            " FROM\n",
            "   `gdelt-bq.gdeltv2.gkg`,\n",
            "   UNNEST(SPLIT(V2Themes,';')) AS theme\n",
            " WHERE\n",
            "   DATE> 20220101000000\n",
            "   AND DATE < 20221231000000\n",
            "   AND Locations LIKE '%Madagascar%' \n",
            " GROUP BY\n",
            "   theme\n",
            " ORDER BY\n",
            "   4 DESC\n"
          ]
        }
      ]
    },
    {
      "cell_type": "code",
      "source": [
        "countries = [\"Madagascar\", \"South Africa\", \"Ghana\",\"Burundi\",'Botswana','Nigeria', 'Zambia', 'Mauritius']\n",
        "years = [ str(2010+i) for i in range(13)]\n",
        "queryallnews = ''\n",
        "for i in range(len(countries)) :\n",
        "  for year in years :\n",
        "     if i == 0 :\n",
        "       queryallnews =  makequery(countries[i],year)\n",
        "     else : \n",
        "       queryallnews   = ' (' +  makequery(countries[i], year)+')' + 'UNION ALL ('+  queryallnews + ')'\n",
        "     \n",
        "#print(queryallnews)"
      ],
      "metadata": {
        "id": "a7VkJSN2DMCE"
      },
      "execution_count": null,
      "outputs": []
    },
    {
      "cell_type": "markdown",
      "source": [
        "The following cell is running only onle, for me to query teh dataset and put it into my google drive as csv file. "
      ],
      "metadata": {
        "id": "eWf6BC8FRLwz"
      }
    },
    {
      "cell_type": "code",
      "source": [
        "#all_news = querytodf(query = queryallnews, csvname = 'allnewsafrica.csv')"
      ],
      "metadata": {
        "colab": {
          "base_uri": "https://localhost:8080/"
        },
        "id": "Y9X0fs3bMnL_",
        "outputId": "1b196816-445b-4837-9686-45ec7870a845"
      },
      "execution_count": null,
      "outputs": [
        {
          "output_type": "stream",
          "name": "stdout",
          "text": [
            "      country  year                       theme  count\n",
            "0  Madagascar  2022           WB_135_TRANSPORT    6427\n",
            "1  Madagascar  2022      TAX_RELIGION_ATHEISTS       3\n",
            "2  Madagascar  2022       TAX_FNCACT_GARDENERS      11\n",
            "3  Madagascar  2022   WB_1793_HAZARDOUS_WASTES       5\n",
            "4  Madagascar  2022  TAX_WORLDLANGUAGES_THURIS       3\n"
          ]
        }
      ]
    },
    {
      "cell_type": "code",
      "source": [
        "ls"
      ],
      "metadata": {
        "colab": {
          "base_uri": "https://localhost:8080/"
        },
        "id": "YhcL1iRZURmj",
        "outputId": "199920f6-dd6d-4fec-e8d1-5794e7dd109b"
      },
      "execution_count": null,
      "outputs": [
        {
          "output_type": "stream",
          "name": "stdout",
          "text": [
            "africa.geo.json  allnewsafrica.csv\n"
          ]
        }
      ]
    },
    {
      "cell_type": "markdown",
      "source": [
        "We are not querying anymore this dataset but load it directly from our google drive."
      ],
      "metadata": {
        "id": "UQRRmp7rUSny"
      }
    },
    {
      "cell_type": "code",
      "source": [
        "all_news = pd.read_csv('allnewsafrica.csv')"
      ],
      "metadata": {
        "id": "THbXKcG1UX_H"
      },
      "execution_count": null,
      "outputs": []
    },
    {
      "cell_type": "code",
      "source": [
        "all_news.head()"
      ],
      "metadata": {
        "colab": {
          "base_uri": "https://localhost:8080/",
          "height": 206
        },
        "id": "pn1szsi5VOlG",
        "outputId": "fbaffd95-faae-46a9-c736-cdff16adb09d"
      },
      "execution_count": null,
      "outputs": [
        {
          "output_type": "execute_result",
          "data": {
            "text/plain": [
              "   Unnamed: 0     country  year                       theme  count\n",
              "0           0  Madagascar  2022           WB_135_TRANSPORT    6427\n",
              "1           1  Madagascar  2022      TAX_RELIGION_ATHEISTS       3\n",
              "2           2  Madagascar  2022       TAX_FNCACT_GARDENERS      11\n",
              "3           3  Madagascar  2022   WB_1793_HAZARDOUS_WASTES       5\n",
              "4           4  Madagascar  2022  TAX_WORLDLANGUAGES_THURIS       3"
            ],
            "text/html": [
              "\n",
              "  <div id=\"df-f7091c97-3533-4332-9096-a14b2571563e\">\n",
              "    <div class=\"colab-df-container\">\n",
              "      <div>\n",
              "<style scoped>\n",
              "    .dataframe tbody tr th:only-of-type {\n",
              "        vertical-align: middle;\n",
              "    }\n",
              "\n",
              "    .dataframe tbody tr th {\n",
              "        vertical-align: top;\n",
              "    }\n",
              "\n",
              "    .dataframe thead th {\n",
              "        text-align: right;\n",
              "    }\n",
              "</style>\n",
              "<table border=\"1\" class=\"dataframe\">\n",
              "  <thead>\n",
              "    <tr style=\"text-align: right;\">\n",
              "      <th></th>\n",
              "      <th>Unnamed: 0</th>\n",
              "      <th>country</th>\n",
              "      <th>year</th>\n",
              "      <th>theme</th>\n",
              "      <th>count</th>\n",
              "    </tr>\n",
              "  </thead>\n",
              "  <tbody>\n",
              "    <tr>\n",
              "      <th>0</th>\n",
              "      <td>0</td>\n",
              "      <td>Madagascar</td>\n",
              "      <td>2022</td>\n",
              "      <td>WB_135_TRANSPORT</td>\n",
              "      <td>6427</td>\n",
              "    </tr>\n",
              "    <tr>\n",
              "      <th>1</th>\n",
              "      <td>1</td>\n",
              "      <td>Madagascar</td>\n",
              "      <td>2022</td>\n",
              "      <td>TAX_RELIGION_ATHEISTS</td>\n",
              "      <td>3</td>\n",
              "    </tr>\n",
              "    <tr>\n",
              "      <th>2</th>\n",
              "      <td>2</td>\n",
              "      <td>Madagascar</td>\n",
              "      <td>2022</td>\n",
              "      <td>TAX_FNCACT_GARDENERS</td>\n",
              "      <td>11</td>\n",
              "    </tr>\n",
              "    <tr>\n",
              "      <th>3</th>\n",
              "      <td>3</td>\n",
              "      <td>Madagascar</td>\n",
              "      <td>2022</td>\n",
              "      <td>WB_1793_HAZARDOUS_WASTES</td>\n",
              "      <td>5</td>\n",
              "    </tr>\n",
              "    <tr>\n",
              "      <th>4</th>\n",
              "      <td>4</td>\n",
              "      <td>Madagascar</td>\n",
              "      <td>2022</td>\n",
              "      <td>TAX_WORLDLANGUAGES_THURIS</td>\n",
              "      <td>3</td>\n",
              "    </tr>\n",
              "  </tbody>\n",
              "</table>\n",
              "</div>\n",
              "      <button class=\"colab-df-convert\" onclick=\"convertToInteractive('df-f7091c97-3533-4332-9096-a14b2571563e')\"\n",
              "              title=\"Convert this dataframe to an interactive table.\"\n",
              "              style=\"display:none;\">\n",
              "        \n",
              "  <svg xmlns=\"http://www.w3.org/2000/svg\" height=\"24px\"viewBox=\"0 0 24 24\"\n",
              "       width=\"24px\">\n",
              "    <path d=\"M0 0h24v24H0V0z\" fill=\"none\"/>\n",
              "    <path d=\"M18.56 5.44l.94 2.06.94-2.06 2.06-.94-2.06-.94-.94-2.06-.94 2.06-2.06.94zm-11 1L8.5 8.5l.94-2.06 2.06-.94-2.06-.94L8.5 2.5l-.94 2.06-2.06.94zm10 10l.94 2.06.94-2.06 2.06-.94-2.06-.94-.94-2.06-.94 2.06-2.06.94z\"/><path d=\"M17.41 7.96l-1.37-1.37c-.4-.4-.92-.59-1.43-.59-.52 0-1.04.2-1.43.59L10.3 9.45l-7.72 7.72c-.78.78-.78 2.05 0 2.83L4 21.41c.39.39.9.59 1.41.59.51 0 1.02-.2 1.41-.59l7.78-7.78 2.81-2.81c.8-.78.8-2.07 0-2.86zM5.41 20L4 18.59l7.72-7.72 1.47 1.35L5.41 20z\"/>\n",
              "  </svg>\n",
              "      </button>\n",
              "      \n",
              "  <style>\n",
              "    .colab-df-container {\n",
              "      display:flex;\n",
              "      flex-wrap:wrap;\n",
              "      gap: 12px;\n",
              "    }\n",
              "\n",
              "    .colab-df-convert {\n",
              "      background-color: #E8F0FE;\n",
              "      border: none;\n",
              "      border-radius: 50%;\n",
              "      cursor: pointer;\n",
              "      display: none;\n",
              "      fill: #1967D2;\n",
              "      height: 32px;\n",
              "      padding: 0 0 0 0;\n",
              "      width: 32px;\n",
              "    }\n",
              "\n",
              "    .colab-df-convert:hover {\n",
              "      background-color: #E2EBFA;\n",
              "      box-shadow: 0px 1px 2px rgba(60, 64, 67, 0.3), 0px 1px 3px 1px rgba(60, 64, 67, 0.15);\n",
              "      fill: #174EA6;\n",
              "    }\n",
              "\n",
              "    [theme=dark] .colab-df-convert {\n",
              "      background-color: #3B4455;\n",
              "      fill: #D2E3FC;\n",
              "    }\n",
              "\n",
              "    [theme=dark] .colab-df-convert:hover {\n",
              "      background-color: #434B5C;\n",
              "      box-shadow: 0px 1px 3px 1px rgba(0, 0, 0, 0.15);\n",
              "      filter: drop-shadow(0px 1px 2px rgba(0, 0, 0, 0.3));\n",
              "      fill: #FFFFFF;\n",
              "    }\n",
              "  </style>\n",
              "\n",
              "      <script>\n",
              "        const buttonEl =\n",
              "          document.querySelector('#df-f7091c97-3533-4332-9096-a14b2571563e button.colab-df-convert');\n",
              "        buttonEl.style.display =\n",
              "          google.colab.kernel.accessAllowed ? 'block' : 'none';\n",
              "\n",
              "        async function convertToInteractive(key) {\n",
              "          const element = document.querySelector('#df-f7091c97-3533-4332-9096-a14b2571563e');\n",
              "          const dataTable =\n",
              "            await google.colab.kernel.invokeFunction('convertToInteractive',\n",
              "                                                     [key], {});\n",
              "          if (!dataTable) return;\n",
              "\n",
              "          const docLinkHtml = 'Like what you see? Visit the ' +\n",
              "            '<a target=\"_blank\" href=https://colab.research.google.com/notebooks/data_table.ipynb>data table notebook</a>'\n",
              "            + ' to learn more about interactive tables.';\n",
              "          element.innerHTML = '';\n",
              "          dataTable['output_type'] = 'display_data';\n",
              "          await google.colab.output.renderOutput(dataTable, element);\n",
              "          const docLink = document.createElement('div');\n",
              "          docLink.innerHTML = docLinkHtml;\n",
              "          element.appendChild(docLink);\n",
              "        }\n",
              "      </script>\n",
              "    </div>\n",
              "  </div>\n",
              "  "
            ]
          },
          "metadata": {},
          "execution_count": 32
        }
      ]
    },
    {
      "cell_type": "code",
      "source": [
        "len(all_news.index)"
      ],
      "metadata": {
        "colab": {
          "base_uri": "https://localhost:8080/"
        },
        "id": "-SigJONlVPrf",
        "outputId": "7736aea1-f89e-4a22-fcca-18e4d6efe65b"
      },
      "execution_count": null,
      "outputs": [
        {
          "output_type": "execute_result",
          "data": {
            "text/plain": [
              "620501"
            ]
          },
          "metadata": {},
          "execution_count": 33
        }
      ]
    },
    {
      "cell_type": "code",
      "source": [
        "print(all_news.theme.unique())"
      ],
      "metadata": {
        "colab": {
          "base_uri": "https://localhost:8080/"
        },
        "id": "rmm-94FBk7IU",
        "outputId": "14f4c069-945f-4a82-9265-03d2acbba6fd"
      },
      "execution_count": null,
      "outputs": [
        {
          "output_type": "stream",
          "name": "stdout",
          "text": [
            "['WB_135_TRANSPORT ' 'TAX_RELIGION_ATHEISTS ' 'TAX_FNCACT_GARDENERS ' ...\n",
            " 'TAX_WORLDBIRDS_BRIDLED_WHITEEYE '\n",
            " 'TAX_WORLDMAMMALS_STRIPENECKED_MONGOOSE '\n",
            " 'TAX_WORLDBIRDS_JAPANESE_WHITE_EYE ']\n"
          ]
        }
      ]
    },
    {
      "cell_type": "markdown",
      "source": [
        ""
      ],
      "metadata": {
        "id": "-sT7ba6Cnbrw"
      }
    },
    {
      "cell_type": "code",
      "source": [
        ""
      ],
      "metadata": {
        "id": "dwYVdmPMlYEZ"
      },
      "execution_count": null,
      "outputs": []
    },
    {
      "cell_type": "markdown",
      "source": [
        "Now that we have our dataset, let us explore it using Choropleth "
      ],
      "metadata": {
        "id": "MBV8YZZOjbTE"
      }
    },
    {
      "cell_type": "code",
      "source": [
        "#Import libraries\n",
        "from plotly import graph_objects as go\n"
      ],
      "metadata": {
        "id": "HL0XuMQ3kMLP"
      },
      "execution_count": null,
      "outputs": []
    },
    {
      "cell_type": "code",
      "source": [
        "all_news['theme'][1]"
      ],
      "metadata": {
        "colab": {
          "base_uri": "https://localhost:8080/",
          "height": 35
        },
        "id": "qTGFPC3Wpk6k",
        "outputId": "e8b66e43-6ce9-4abb-b4cf-439cf20a807c"
      },
      "execution_count": null,
      "outputs": [
        {
          "output_type": "execute_result",
          "data": {
            "text/plain": [
              "'TAX_RELIGION_ATHEISTS '"
            ],
            "application/vnd.google.colaboratory.intrinsic+json": {
              "type": "string"
            }
          },
          "metadata": {},
          "execution_count": 65
        }
      ]
    },
    {
      "cell_type": "code",
      "source": [
        "theme = 'EDUCATION'\n",
        "def istheme_in(myrow) :\n",
        "  try :\n",
        "    if theme in myrow :\n",
        "      return True\n",
        "  except : return False\n",
        "  return False"
      ],
      "metadata": {
        "id": "yTYYQ07oqq85"
      },
      "execution_count": null,
      "outputs": []
    },
    {
      "cell_type": "code",
      "source": [
        ""
      ],
      "metadata": {
        "colab": {
          "base_uri": "https://localhost:8080/"
        },
        "id": "8plZs4pAtnTh",
        "outputId": "00e72900-6b89-4a7a-bed2-f42c47c34019"
      },
      "execution_count": null,
      "outputs": [
        {
          "output_type": "execute_result",
          "data": {
            "text/plain": [
              "[False,\n",
              " False,\n",
              " False,\n",
              " False,\n",
              " False,\n",
              " False,\n",
              " False,\n",
              " False,\n",
              " False,\n",
              " False,\n",
              " False,\n",
              " False,\n",
              " False]"
            ]
          },
          "metadata": {},
          "execution_count": 99
        }
      ]
    },
    {
      "cell_type": "code",
      "source": [
        "all_news['theme'].apply(istheme_in)"
      ],
      "metadata": {
        "colab": {
          "base_uri": "https://localhost:8080/"
        },
        "id": "Ny-EPxyXsKBL",
        "outputId": "cd98316e-7a76-481c-92f3-112a71e2ebf6"
      },
      "execution_count": null,
      "outputs": [
        {
          "output_type": "execute_result",
          "data": {
            "text/plain": [
              "0         False\n",
              "1         False\n",
              "2         False\n",
              "3         False\n",
              "4         False\n",
              "          ...  \n",
              "620496    False\n",
              "620497    False\n",
              "620498    False\n",
              "620499    False\n",
              "620500    False\n",
              "Name: theme, Length: 620501, dtype: bool"
            ]
          },
          "metadata": {},
          "execution_count": 101
        }
      ]
    },
    {
      "cell_type": "code",
      "source": [
        "year = 2022\n",
        "theme = 'EDUCATION'\n",
        "newdf = all_news.loc[(all_news['year'] == year)& all_news['theme'].apply(istheme_in) ]\n",
        "newdf.head()"
      ],
      "metadata": {
        "colab": {
          "base_uri": "https://localhost:8080/",
          "height": 206
        },
        "id": "Oc2w16hnoGz5",
        "outputId": "9334bd1c-04a3-4ff6-e873-3f0e9ea40322"
      },
      "execution_count": null,
      "outputs": [
        {
          "output_type": "execute_result",
          "data": {
            "text/plain": [
              "     Unnamed: 0     country  year  \\\n",
              "231         231  Madagascar  2022   \n",
              "288         288  Madagascar  2022   \n",
              "514         514  Madagascar  2022   \n",
              "727         727  Madagascar  2022   \n",
              "980         980  Madagascar  2022   \n",
              "\n",
              "                                                 theme  count  \n",
              "231  WB_1484_EDUCATION_SKILLS_DEVELOPMENT_AND_LABOR...   1154  \n",
              "288                       WB_2141_EDUCATION_DISTRICTS      13  \n",
              "514        WB_2147_EDUCATION_RESEARCH_AND_DEVELOPMENT       2  \n",
              "727             WB_1513_EDUCATION_POLICY_AND_PLANNING       3  \n",
              "980                                  WB_470_EDUCATION    3472  "
            ],
            "text/html": [
              "\n",
              "  <div id=\"df-2124a4ca-a24f-4d92-ad15-eac8ea7601e2\">\n",
              "    <div class=\"colab-df-container\">\n",
              "      <div>\n",
              "<style scoped>\n",
              "    .dataframe tbody tr th:only-of-type {\n",
              "        vertical-align: middle;\n",
              "    }\n",
              "\n",
              "    .dataframe tbody tr th {\n",
              "        vertical-align: top;\n",
              "    }\n",
              "\n",
              "    .dataframe thead th {\n",
              "        text-align: right;\n",
              "    }\n",
              "</style>\n",
              "<table border=\"1\" class=\"dataframe\">\n",
              "  <thead>\n",
              "    <tr style=\"text-align: right;\">\n",
              "      <th></th>\n",
              "      <th>Unnamed: 0</th>\n",
              "      <th>country</th>\n",
              "      <th>year</th>\n",
              "      <th>theme</th>\n",
              "      <th>count</th>\n",
              "    </tr>\n",
              "  </thead>\n",
              "  <tbody>\n",
              "    <tr>\n",
              "      <th>231</th>\n",
              "      <td>231</td>\n",
              "      <td>Madagascar</td>\n",
              "      <td>2022</td>\n",
              "      <td>WB_1484_EDUCATION_SKILLS_DEVELOPMENT_AND_LABOR...</td>\n",
              "      <td>1154</td>\n",
              "    </tr>\n",
              "    <tr>\n",
              "      <th>288</th>\n",
              "      <td>288</td>\n",
              "      <td>Madagascar</td>\n",
              "      <td>2022</td>\n",
              "      <td>WB_2141_EDUCATION_DISTRICTS</td>\n",
              "      <td>13</td>\n",
              "    </tr>\n",
              "    <tr>\n",
              "      <th>514</th>\n",
              "      <td>514</td>\n",
              "      <td>Madagascar</td>\n",
              "      <td>2022</td>\n",
              "      <td>WB_2147_EDUCATION_RESEARCH_AND_DEVELOPMENT</td>\n",
              "      <td>2</td>\n",
              "    </tr>\n",
              "    <tr>\n",
              "      <th>727</th>\n",
              "      <td>727</td>\n",
              "      <td>Madagascar</td>\n",
              "      <td>2022</td>\n",
              "      <td>WB_1513_EDUCATION_POLICY_AND_PLANNING</td>\n",
              "      <td>3</td>\n",
              "    </tr>\n",
              "    <tr>\n",
              "      <th>980</th>\n",
              "      <td>980</td>\n",
              "      <td>Madagascar</td>\n",
              "      <td>2022</td>\n",
              "      <td>WB_470_EDUCATION</td>\n",
              "      <td>3472</td>\n",
              "    </tr>\n",
              "  </tbody>\n",
              "</table>\n",
              "</div>\n",
              "      <button class=\"colab-df-convert\" onclick=\"convertToInteractive('df-2124a4ca-a24f-4d92-ad15-eac8ea7601e2')\"\n",
              "              title=\"Convert this dataframe to an interactive table.\"\n",
              "              style=\"display:none;\">\n",
              "        \n",
              "  <svg xmlns=\"http://www.w3.org/2000/svg\" height=\"24px\"viewBox=\"0 0 24 24\"\n",
              "       width=\"24px\">\n",
              "    <path d=\"M0 0h24v24H0V0z\" fill=\"none\"/>\n",
              "    <path d=\"M18.56 5.44l.94 2.06.94-2.06 2.06-.94-2.06-.94-.94-2.06-.94 2.06-2.06.94zm-11 1L8.5 8.5l.94-2.06 2.06-.94-2.06-.94L8.5 2.5l-.94 2.06-2.06.94zm10 10l.94 2.06.94-2.06 2.06-.94-2.06-.94-.94-2.06-.94 2.06-2.06.94z\"/><path d=\"M17.41 7.96l-1.37-1.37c-.4-.4-.92-.59-1.43-.59-.52 0-1.04.2-1.43.59L10.3 9.45l-7.72 7.72c-.78.78-.78 2.05 0 2.83L4 21.41c.39.39.9.59 1.41.59.51 0 1.02-.2 1.41-.59l7.78-7.78 2.81-2.81c.8-.78.8-2.07 0-2.86zM5.41 20L4 18.59l7.72-7.72 1.47 1.35L5.41 20z\"/>\n",
              "  </svg>\n",
              "      </button>\n",
              "      \n",
              "  <style>\n",
              "    .colab-df-container {\n",
              "      display:flex;\n",
              "      flex-wrap:wrap;\n",
              "      gap: 12px;\n",
              "    }\n",
              "\n",
              "    .colab-df-convert {\n",
              "      background-color: #E8F0FE;\n",
              "      border: none;\n",
              "      border-radius: 50%;\n",
              "      cursor: pointer;\n",
              "      display: none;\n",
              "      fill: #1967D2;\n",
              "      height: 32px;\n",
              "      padding: 0 0 0 0;\n",
              "      width: 32px;\n",
              "    }\n",
              "\n",
              "    .colab-df-convert:hover {\n",
              "      background-color: #E2EBFA;\n",
              "      box-shadow: 0px 1px 2px rgba(60, 64, 67, 0.3), 0px 1px 3px 1px rgba(60, 64, 67, 0.15);\n",
              "      fill: #174EA6;\n",
              "    }\n",
              "\n",
              "    [theme=dark] .colab-df-convert {\n",
              "      background-color: #3B4455;\n",
              "      fill: #D2E3FC;\n",
              "    }\n",
              "\n",
              "    [theme=dark] .colab-df-convert:hover {\n",
              "      background-color: #434B5C;\n",
              "      box-shadow: 0px 1px 3px 1px rgba(0, 0, 0, 0.15);\n",
              "      filter: drop-shadow(0px 1px 2px rgba(0, 0, 0, 0.3));\n",
              "      fill: #FFFFFF;\n",
              "    }\n",
              "  </style>\n",
              "\n",
              "      <script>\n",
              "        const buttonEl =\n",
              "          document.querySelector('#df-2124a4ca-a24f-4d92-ad15-eac8ea7601e2 button.colab-df-convert');\n",
              "        buttonEl.style.display =\n",
              "          google.colab.kernel.accessAllowed ? 'block' : 'none';\n",
              "\n",
              "        async function convertToInteractive(key) {\n",
              "          const element = document.querySelector('#df-2124a4ca-a24f-4d92-ad15-eac8ea7601e2');\n",
              "          const dataTable =\n",
              "            await google.colab.kernel.invokeFunction('convertToInteractive',\n",
              "                                                     [key], {});\n",
              "          if (!dataTable) return;\n",
              "\n",
              "          const docLinkHtml = 'Like what you see? Visit the ' +\n",
              "            '<a target=\"_blank\" href=https://colab.research.google.com/notebooks/data_table.ipynb>data table notebook</a>'\n",
              "            + ' to learn more about interactive tables.';\n",
              "          element.innerHTML = '';\n",
              "          dataTable['output_type'] = 'display_data';\n",
              "          await google.colab.output.renderOutput(dataTable, element);\n",
              "          const docLink = document.createElement('div');\n",
              "          docLink.innerHTML = docLinkHtml;\n",
              "          element.appendChild(docLink);\n",
              "        }\n",
              "      </script>\n",
              "    </div>\n",
              "  </div>\n",
              "  "
            ]
          },
          "metadata": {},
          "execution_count": 102
        }
      ]
    },
    {
      "cell_type": "code",
      "source": [
        "def makesmaller(theme, year):\n",
        "   newdf = all_news[all_news['year']==year]"
      ],
      "metadata": {
        "id": "KBOOAwHKmSiq"
      },
      "execution_count": null,
      "outputs": []
    },
    {
      "cell_type": "code",
      "source": [
        "#@markdown For you to select the theme and year { run: \"auto\" }\n",
        "\n",
        "theme = \"EDUCATION\" #@param [\"TRANSPORT\", \"RELIGION\", \"EDUCATION\"]\n",
        "year = 2010 #@param [2010,2011,2012,2013,2014,2015,2016,2017,2018,2019,2020,2021,2022]\n",
        "\n",
        "#Create figure object \n",
        "\n",
        "\n",
        "\n",
        "\n",
        "fig = go.Figure(\n",
        "    go.Choroplethmapbox(\n",
        "        geojson = 'africa.geo.json', #Assign geojson file\n",
        "        featureidkey = \"properties.COUNTYNAME\", #Assign feature key\n",
        "        locations = Dataset[\"country\"], #Assign location data\n",
        "        z = Dataset[\"count\"], #Assign information data\n",
        "        zauto = True,\n",
        "        colorscale = 'viridis',\n",
        "        showscale = True,\n",
        "    )\n",
        ")\n",
        "\n",
        "\n",
        "#Update layout\n",
        "fig.update_layout(\n",
        "    mapbox_style = \"carto-positron\", #Decide a style for the map\n",
        "    mapbox_zoom = 6, #Zoom in scale\n",
        "    mapbox_center = {\"lat\": 23.9, \"lon\": 121.52}, #Center location of the map\n",
        ")"
      ],
      "metadata": {
        "id": "UJn-mAJ2VTyH"
      },
      "execution_count": null,
      "outputs": []
    }
  ]
}