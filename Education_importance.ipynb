{
  "nbformat": 4,
  "nbformat_minor": 0,
  "metadata": {
    "colab": {
      "name": "Education importance.ipynb",
      "provenance": [],
      "authorship_tag": "ABX9TyOdJdmBs7W0ED9XYrl1kqYD",
      "include_colab_link": true
    },
    "kernelspec": {
      "name": "python3",
      "display_name": "Python 3"
    },
    "language_info": {
      "name": "python"
    }
  },
  "cells": [
    {
      "cell_type": "markdown",
      "metadata": {
        "id": "view-in-github",
        "colab_type": "text"
      },
      "source": [
        "<a href=\"https://colab.research.google.com/github/AntsaHoneywinner/TwistChallengeModule3/blob/main/Education_importance.ipynb\" target=\"_parent\"><img src=\"https://colab.research.google.com/assets/colab-badge.svg\" alt=\"Open In Colab\"/></a>"
      ]
    },
    {
      "cell_type": "markdown",
      "source": [
        "# How important is education in Africa?\n",
        "## Insight from the Gdelt 2.0 \n",
        "\n",
        "[GitHub link is here.](https://github.com/AntsaHoneywinner/TwistChallengeModule3/)\n",
        "\n",
        "### The challenge:  How much news in Africa is on education each year?\n",
        "\n",
        "\n",
        "   \n",
        "\n"
      ],
      "metadata": {
        "id": "3WMWMGYVrrAh"
      }
    },
    {
      "cell_type": "markdown",
      "source": [
        "### 1 - Setting up Bigquery and Google Drive in Colab"
      ],
      "metadata": {
        "id": "s6NnvCmYHBsZ"
      }
    },
    {
      "cell_type": "code",
      "source": [
        "from google.colab import auth\n",
        "auth.authenticate_user()\n",
        "print('Authenticated')"
      ],
      "metadata": {
        "colab": {
          "base_uri": "https://localhost:8080/"
        },
        "id": "798VQTkKOMV4",
        "outputId": "c9f7fa1c-b2b2-4395-f990-ae52bd7a790c"
      },
      "execution_count": 3,
      "outputs": [
        {
          "output_type": "stream",
          "name": "stdout",
          "text": [
            "Authenticated\n"
          ]
        }
      ]
    },
    {
      "cell_type": "code",
      "source": [
        "# mounting my google drive to access my files\n",
        "\n",
        "from google.colab import drive\n",
        "drive.mount('/content/gdrive', force_remount=True)"
      ],
      "metadata": {
        "colab": {
          "base_uri": "https://localhost:8080/"
        },
        "id": "Rv4FeZwGyrc3",
        "outputId": "b135c046-0474-4d19-cbde-ea259e118e02"
      },
      "execution_count": 1,
      "outputs": [
        {
          "output_type": "stream",
          "name": "stdout",
          "text": [
            "Mounted at /content/gdrive\n"
          ]
        }
      ]
    },
    {
      "cell_type": "code",
      "source": [
        "ls gdrive/MyDrive/TwistChallengeModule3/'my data'"
      ],
      "metadata": {
        "colab": {
          "base_uri": "https://localhost:8080/"
        },
        "id": "DuAFSvWoL8g0",
        "outputId": "f801fc28-9408-4b9b-9920-9398333c9e1f"
      },
      "execution_count": 2,
      "outputs": [
        {
          "output_type": "stream",
          "name": "stdout",
          "text": [
            "africa.geo.json  allnewsafrica.csv\n"
          ]
        }
      ]
    },
    {
      "cell_type": "markdown",
      "source": [
        "### Architecture :\n",
        "\n",
        "\n",
        "[to edit the diagram](https://lucid.app/lucidchart/639ad72b-6f50-4481-87e5-b6b839577e64/edit?invitationId=inv_b95acbb9-c21e-424a-873f-38f7fec6cc47&page=0_0#)\n",
        "\n",
        "\n",
        "\n",
        "![Twist challenge module 3.png](data:image/png;base64,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)"
      ],
      "metadata": {
        "id": "nBx09qY4veg2"
      }
    },
    {
      "cell_type": "markdown",
      "source": [
        ""
      ],
      "metadata": {
        "id": "K2j2kkDILj0l"
      }
    },
    {
      "cell_type": "markdown",
      "source": [
        "#### Tools for the visualization \n",
        "\n",
        "Check\n",
        "[this ](https://medium.com/geekculture/three-ways-to-plot-choropleth-map-using-python-f53799a3e623) and [this](https://holoviews.org/gallery/demos/bokeh/texas_choropleth_example.html#demos-bokeh-gallery-texas-choropleth-example).\n",
        "\n",
        "\n",
        "For the [Geojson go here.](https://geojson-maps.ash.ms/)\n",
        "\n",
        "For accessing the database [go here.](https://www.kaggle.com/code/chasset/load-gdelt-data-with-bigquery)\n",
        "\n",
        "\n",
        "My own [copy of it](https://www.kaggle.com/code/antsarakotondrafara/load-gdelt-data-with-bigquery/edit).\n",
        "\n",
        "The list of all themes of GDELT is found [here](http://data.gdeltproject.org/api/v2/guides/LOOKUP-GKGTHEMES.TXT)."
      ],
      "metadata": {
        "id": "qZJnwesF2tQv"
      }
    },
    {
      "cell_type": "markdown",
      "source": [
        "Timeline :\n",
        "\n",
        "\n",
        "4/16/2022 : Load all the data from bigquery to my google drive\n",
        "\n",
        "4/17/2022 : Come up with the NLP to determine the topic\n",
        "\n",
        "4/18/2022 : Come up with the visualization."
      ],
      "metadata": {
        "id": "MrJVnuK5_OIW"
      }
    },
    {
      "cell_type": "markdown",
      "source": [
        "I followed this [YouTube video](https://www.youtube.com/watch?v=iolQX4XJN2A) and this [pretty notebook](https://colab.research.google.com/notebooks/bigquery.ipynb#scrollTo=SeTJb51SKs_W) to access Bigquery on Colab."
      ],
      "metadata": {
        "id": "Hz4BV5QviDsA"
      }
    },
    {
      "cell_type": "code",
      "execution_count": null,
      "metadata": {
        "id": "xMmdh39croiy"
      },
      "outputs": [],
      "source": [
        "# # installing the Google Bigquery library\n",
        "# !pip install --upgrade google-cloud-bigquery"
      ]
    },
    {
      "cell_type": "code",
      "source": [
        "# !pip install google.cloud"
      ],
      "metadata": {
        "colab": {
          "base_uri": "https://localhost:8080/"
        },
        "id": "zMXse6yMmlG0",
        "outputId": "40106d65-1115-4789-aad9-4436b847402a"
      },
      "execution_count": null,
      "outputs": [
        {
          "output_type": "stream",
          "name": "stdout",
          "text": [
            "Collecting google.cloud\n",
            "  Downloading google_cloud-0.34.0-py2.py3-none-any.whl (1.8 kB)\n",
            "Installing collected packages: google.cloud\n",
            "Successfully installed google.cloud-0.34.0\n"
          ]
        }
      ]
    },
    {
      "cell_type": "markdown",
      "source": [
        "### Importing required libraries"
      ],
      "metadata": {
        "id": "ascwW_HMJgek"
      }
    },
    {
      "cell_type": "code",
      "source": [
        "import pandas as pd\n",
        "from google.cloud import bigquery\n",
        "import csv\n",
        "from plotly import graph_objects as go\n",
        "\n",
        "#variables\n",
        "project_id = 'twist-challenge-module-3'\n",
        "#connections\n",
        "client = bigquery.Client(project=project_id)\n",
        "# result to dataframe function\n",
        "def querytodf(query, csvname) :\n",
        "  '''This function take as input the query, put the result into a csv file and return the dataset'''\n",
        "  df = pd.io.gbq.read_gbq(query, project_id=project_id, dialect='standard')\n",
        "\n",
        "  print(df.head())\n",
        "  dfcsv = df.to_csv(csvname)\n",
        "  return df "
      ],
      "metadata": {
        "id": "orTBvw0cmiFs"
      },
      "execution_count": 5,
      "outputs": []
    },
    {
      "cell_type": "markdown",
      "source": [
        "Now that we see the querying works here, we are going to query all news in African country from 2012 to 2022 and we will group those by country and theme."
      ],
      "metadata": {
        "id": "-PD5E0HDSlNF"
      }
    },
    {
      "cell_type": "markdown",
      "source": [
        "I will use this function to make my query."
      ],
      "metadata": {
        "id": "pB55yXttInBn"
      }
    },
    {
      "cell_type": "code",
      "source": [
        " def makequery(country,year  ) :\n",
        "    '''This function take as input a country and a year and return the query to send to bigquery'''\n",
        "    return('''SELECT\n",
        "    '''+ \"'\" + country +'''' AS country,\n",
        "    '''+ \"'\" + year +'''' AS year,\n",
        "    REGEXP_REPLACE(theme , r',.*', \" \") AS theme,\n",
        "    COUNT(*) AS count,\n",
        "  FROM\n",
        "    `gdelt-bq.gdeltv2.gkg`,\n",
        "    UNNEST(SPLIT(V2Themes,';')) AS theme\n",
        "  WHERE\n",
        "    DATE> ''' +year+ '''0101000000\n",
        "    AND DATE < ''' +year+ '''1231000000\n",
        "    AND Locations LIKE '%'''+country +'''%' \n",
        "  GROUP BY\n",
        "    theme\n",
        "  ORDER BY\n",
        "    4 DESC''')"
      ],
      "metadata": {
        "id": "u2hQMDp3HIZ4"
      },
      "execution_count": 6,
      "outputs": []
    },
    {
      "cell_type": "code",
      "source": [
        "cd gdrive/MyDrive/TwistChallengeModule3/'my data'"
      ],
      "metadata": {
        "colab": {
          "base_uri": "https://localhost:8080/"
        },
        "id": "510xz-zDMZy4",
        "outputId": "7b012e01-0253-42ba-9913-4f4bfd8675a4"
      },
      "execution_count": 11,
      "outputs": [
        {
          "output_type": "stream",
          "name": "stdout",
          "text": [
            "/content/gdrive/MyDrive/TwistChallengeModule3/my data\n"
          ]
        }
      ]
    },
    {
      "cell_type": "code",
      "source": [
        "#@markdown For you to select the country { run: \"auto\" }\n",
        "\n",
        "country = \"Botswana\" #@param [\"Madagascar\", \"South Africa\", \"Ghana\",\"Burundi\",'Botswana','Nigeria', 'Zambia', 'Mauritius']\n",
        "print(makequery(country, '2022' ))\n"
      ],
      "metadata": {
        "colab": {
          "base_uri": "https://localhost:8080/"
        },
        "id": "vpO5bXXNBYex",
        "outputId": "b1c1dbea-eaaa-4f48-e42c-0c14f5c7d04e"
      },
      "execution_count": 13,
      "outputs": [
        {
          "output_type": "stream",
          "name": "stdout",
          "text": [
            "SELECT\n",
            "   'Botswana' AS country,\n",
            "   '2022' AS year,\n",
            "   REGEXP_REPLACE(theme , r',.*', \" \") AS theme,\n",
            "   COUNT(*) AS count,\n",
            " FROM\n",
            "   `gdelt-bq.gdeltv2.gkg`,\n",
            "   UNNEST(SPLIT(V2Themes,';')) AS theme\n",
            " WHERE\n",
            "   DATE> 20220101000000\n",
            "   AND DATE < 20221231000000\n",
            "   AND Locations LIKE '%Botswana%' \n",
            " GROUP BY\n",
            "   theme\n",
            " ORDER BY\n",
            "   4 DESC\n"
          ]
        }
      ]
    },
    {
      "cell_type": "code",
      "source": [
        "countries = [\"Madagascar\", \"South Africa\", \"Ghana\",\"Burundi\",'Botswana','Nigeria', 'Zambia', 'Mauritius']\n",
        "years = [ str(2010+i) for i in range(13)]\n",
        "queryallnews = ''\n",
        "for i in range(len(countries)) :\n",
        "  for year in years :\n",
        "     if i == 0 :\n",
        "       queryallnews =  makequery(countries[i],year)\n",
        "     else : \n",
        "       queryallnews   = ' (' +  makequery(countries[i], year)+')' + 'UNION ALL ('+  queryallnews + ')'\n",
        "     \n",
        "#print(queryallnews)"
      ],
      "metadata": {
        "id": "a7VkJSN2DMCE"
      },
      "execution_count": 9,
      "outputs": []
    },
    {
      "cell_type": "markdown",
      "source": [
        "The following cell is running only onle, for me to query teh dataset and put it into my google drive as csv file. "
      ],
      "metadata": {
        "id": "eWf6BC8FRLwz"
      }
    },
    {
      "cell_type": "code",
      "source": [
        "#all_news = querytodf(query = queryallnews, csvname = 'allnewsafrica.csv')"
      ],
      "metadata": {
        "colab": {
          "base_uri": "https://localhost:8080/"
        },
        "id": "Y9X0fs3bMnL_",
        "outputId": "1b196816-445b-4837-9686-45ec7870a845"
      },
      "execution_count": null,
      "outputs": [
        {
          "output_type": "stream",
          "name": "stdout",
          "text": [
            "      country  year                       theme  count\n",
            "0  Madagascar  2022           WB_135_TRANSPORT    6427\n",
            "1  Madagascar  2022      TAX_RELIGION_ATHEISTS       3\n",
            "2  Madagascar  2022       TAX_FNCACT_GARDENERS      11\n",
            "3  Madagascar  2022   WB_1793_HAZARDOUS_WASTES       5\n",
            "4  Madagascar  2022  TAX_WORLDLANGUAGES_THURIS       3\n"
          ]
        }
      ]
    },
    {
      "cell_type": "code",
      "source": [
        "ls"
      ],
      "metadata": {
        "colab": {
          "base_uri": "https://localhost:8080/"
        },
        "id": "YhcL1iRZURmj",
        "outputId": "199920f6-dd6d-4fec-e8d1-5794e7dd109b"
      },
      "execution_count": null,
      "outputs": [
        {
          "output_type": "stream",
          "name": "stdout",
          "text": [
            "africa.geo.json  allnewsafrica.csv\n"
          ]
        }
      ]
    },
    {
      "cell_type": "markdown",
      "source": [
        "We are not querying anymore this dataset but load it directly from our google drive."
      ],
      "metadata": {
        "id": "UQRRmp7rUSny"
      }
    },
    {
      "cell_type": "code",
      "source": [
        "all_news = pd.read_csv('allnewsafrica.csv')"
      ],
      "metadata": {
        "id": "THbXKcG1UX_H"
      },
      "execution_count": 12,
      "outputs": []
    },
    {
      "cell_type": "code",
      "source": [
        "all_news.head()"
      ],
      "metadata": {
        "colab": {
          "base_uri": "https://localhost:8080/",
          "height": 206
        },
        "id": "pn1szsi5VOlG",
        "outputId": "fbaffd95-faae-46a9-c736-cdff16adb09d"
      },
      "execution_count": null,
      "outputs": [
        {
          "output_type": "execute_result",
          "data": {
            "text/plain": [
              "   Unnamed: 0     country  year                       theme  count\n",
              "0           0  Madagascar  2022           WB_135_TRANSPORT    6427\n",
              "1           1  Madagascar  2022      TAX_RELIGION_ATHEISTS       3\n",
              "2           2  Madagascar  2022       TAX_FNCACT_GARDENERS      11\n",
              "3           3  Madagascar  2022   WB_1793_HAZARDOUS_WASTES       5\n",
              "4           4  Madagascar  2022  TAX_WORLDLANGUAGES_THURIS       3"
            ],
            "text/html": [
              "\n",
              "  <div id=\"df-f7091c97-3533-4332-9096-a14b2571563e\">\n",
              "    <div class=\"colab-df-container\">\n",
              "      <div>\n",
              "<style scoped>\n",
              "    .dataframe tbody tr th:only-of-type {\n",
              "        vertical-align: middle;\n",
              "    }\n",
              "\n",
              "    .dataframe tbody tr th {\n",
              "        vertical-align: top;\n",
              "    }\n",
              "\n",
              "    .dataframe thead th {\n",
              "        text-align: right;\n",
              "    }\n",
              "</style>\n",
              "<table border=\"1\" class=\"dataframe\">\n",
              "  <thead>\n",
              "    <tr style=\"text-align: right;\">\n",
              "      <th></th>\n",
              "      <th>Unnamed: 0</th>\n",
              "      <th>country</th>\n",
              "      <th>year</th>\n",
              "      <th>theme</th>\n",
              "      <th>count</th>\n",
              "    </tr>\n",
              "  </thead>\n",
              "  <tbody>\n",
              "    <tr>\n",
              "      <th>0</th>\n",
              "      <td>0</td>\n",
              "      <td>Madagascar</td>\n",
              "      <td>2022</td>\n",
              "      <td>WB_135_TRANSPORT</td>\n",
              "      <td>6427</td>\n",
              "    </tr>\n",
              "    <tr>\n",
              "      <th>1</th>\n",
              "      <td>1</td>\n",
              "      <td>Madagascar</td>\n",
              "      <td>2022</td>\n",
              "      <td>TAX_RELIGION_ATHEISTS</td>\n",
              "      <td>3</td>\n",
              "    </tr>\n",
              "    <tr>\n",
              "      <th>2</th>\n",
              "      <td>2</td>\n",
              "      <td>Madagascar</td>\n",
              "      <td>2022</td>\n",
              "      <td>TAX_FNCACT_GARDENERS</td>\n",
              "      <td>11</td>\n",
              "    </tr>\n",
              "    <tr>\n",
              "      <th>3</th>\n",
              "      <td>3</td>\n",
              "      <td>Madagascar</td>\n",
              "      <td>2022</td>\n",
              "      <td>WB_1793_HAZARDOUS_WASTES</td>\n",
              "      <td>5</td>\n",
              "    </tr>\n",
              "    <tr>\n",
              "      <th>4</th>\n",
              "      <td>4</td>\n",
              "      <td>Madagascar</td>\n",
              "      <td>2022</td>\n",
              "      <td>TAX_WORLDLANGUAGES_THURIS</td>\n",
              "      <td>3</td>\n",
              "    </tr>\n",
              "  </tbody>\n",
              "</table>\n",
              "</div>\n",
              "      <button class=\"colab-df-convert\" onclick=\"convertToInteractive('df-f7091c97-3533-4332-9096-a14b2571563e')\"\n",
              "              title=\"Convert this dataframe to an interactive table.\"\n",
              "              style=\"display:none;\">\n",
              "        \n",
              "  <svg xmlns=\"http://www.w3.org/2000/svg\" height=\"24px\"viewBox=\"0 0 24 24\"\n",
              "       width=\"24px\">\n",
              "    <path d=\"M0 0h24v24H0V0z\" fill=\"none\"/>\n",
              "    <path d=\"M18.56 5.44l.94 2.06.94-2.06 2.06-.94-2.06-.94-.94-2.06-.94 2.06-2.06.94zm-11 1L8.5 8.5l.94-2.06 2.06-.94-2.06-.94L8.5 2.5l-.94 2.06-2.06.94zm10 10l.94 2.06.94-2.06 2.06-.94-2.06-.94-.94-2.06-.94 2.06-2.06.94z\"/><path d=\"M17.41 7.96l-1.37-1.37c-.4-.4-.92-.59-1.43-.59-.52 0-1.04.2-1.43.59L10.3 9.45l-7.72 7.72c-.78.78-.78 2.05 0 2.83L4 21.41c.39.39.9.59 1.41.59.51 0 1.02-.2 1.41-.59l7.78-7.78 2.81-2.81c.8-.78.8-2.07 0-2.86zM5.41 20L4 18.59l7.72-7.72 1.47 1.35L5.41 20z\"/>\n",
              "  </svg>\n",
              "      </button>\n",
              "      \n",
              "  <style>\n",
              "    .colab-df-container {\n",
              "      display:flex;\n",
              "      flex-wrap:wrap;\n",
              "      gap: 12px;\n",
              "    }\n",
              "\n",
              "    .colab-df-convert {\n",
              "      background-color: #E8F0FE;\n",
              "      border: none;\n",
              "      border-radius: 50%;\n",
              "      cursor: pointer;\n",
              "      display: none;\n",
              "      fill: #1967D2;\n",
              "      height: 32px;\n",
              "      padding: 0 0 0 0;\n",
              "      width: 32px;\n",
              "    }\n",
              "\n",
              "    .colab-df-convert:hover {\n",
              "      background-color: #E2EBFA;\n",
              "      box-shadow: 0px 1px 2px rgba(60, 64, 67, 0.3), 0px 1px 3px 1px rgba(60, 64, 67, 0.15);\n",
              "      fill: #174EA6;\n",
              "    }\n",
              "\n",
              "    [theme=dark] .colab-df-convert {\n",
              "      background-color: #3B4455;\n",
              "      fill: #D2E3FC;\n",
              "    }\n",
              "\n",
              "    [theme=dark] .colab-df-convert:hover {\n",
              "      background-color: #434B5C;\n",
              "      box-shadow: 0px 1px 3px 1px rgba(0, 0, 0, 0.15);\n",
              "      filter: drop-shadow(0px 1px 2px rgba(0, 0, 0, 0.3));\n",
              "      fill: #FFFFFF;\n",
              "    }\n",
              "  </style>\n",
              "\n",
              "      <script>\n",
              "        const buttonEl =\n",
              "          document.querySelector('#df-f7091c97-3533-4332-9096-a14b2571563e button.colab-df-convert');\n",
              "        buttonEl.style.display =\n",
              "          google.colab.kernel.accessAllowed ? 'block' : 'none';\n",
              "\n",
              "        async function convertToInteractive(key) {\n",
              "          const element = document.querySelector('#df-f7091c97-3533-4332-9096-a14b2571563e');\n",
              "          const dataTable =\n",
              "            await google.colab.kernel.invokeFunction('convertToInteractive',\n",
              "                                                     [key], {});\n",
              "          if (!dataTable) return;\n",
              "\n",
              "          const docLinkHtml = 'Like what you see? Visit the ' +\n",
              "            '<a target=\"_blank\" href=https://colab.research.google.com/notebooks/data_table.ipynb>data table notebook</a>'\n",
              "            + ' to learn more about interactive tables.';\n",
              "          element.innerHTML = '';\n",
              "          dataTable['output_type'] = 'display_data';\n",
              "          await google.colab.output.renderOutput(dataTable, element);\n",
              "          const docLink = document.createElement('div');\n",
              "          docLink.innerHTML = docLinkHtml;\n",
              "          element.appendChild(docLink);\n",
              "        }\n",
              "      </script>\n",
              "    </div>\n",
              "  </div>\n",
              "  "
            ]
          },
          "metadata": {},
          "execution_count": 32
        }
      ]
    },
    {
      "cell_type": "code",
      "source": [
        "len(all_news.index)"
      ],
      "metadata": {
        "colab": {
          "base_uri": "https://localhost:8080/"
        },
        "id": "-SigJONlVPrf",
        "outputId": "7736aea1-f89e-4a22-fcca-18e4d6efe65b"
      },
      "execution_count": null,
      "outputs": [
        {
          "output_type": "execute_result",
          "data": {
            "text/plain": [
              "620501"
            ]
          },
          "metadata": {},
          "execution_count": 33
        }
      ]
    },
    {
      "cell_type": "code",
      "source": [
        "print(all_news.theme.unique())"
      ],
      "metadata": {
        "colab": {
          "base_uri": "https://localhost:8080/"
        },
        "id": "rmm-94FBk7IU",
        "outputId": "14f4c069-945f-4a82-9265-03d2acbba6fd"
      },
      "execution_count": null,
      "outputs": [
        {
          "output_type": "stream",
          "name": "stdout",
          "text": [
            "['WB_135_TRANSPORT ' 'TAX_RELIGION_ATHEISTS ' 'TAX_FNCACT_GARDENERS ' ...\n",
            " 'TAX_WORLDBIRDS_BRIDLED_WHITEEYE '\n",
            " 'TAX_WORLDMAMMALS_STRIPENECKED_MONGOOSE '\n",
            " 'TAX_WORLDBIRDS_JAPANESE_WHITE_EYE ']\n"
          ]
        }
      ]
    },
    {
      "cell_type": "code",
      "source": [
        "theme = 'EDUCATION'\n",
        "def istheme_in(myrow) :\n",
        "  try :\n",
        "    if theme in myrow :\n",
        "      return True\n",
        "  except : return False\n",
        "  return False"
      ],
      "metadata": {
        "id": "yTYYQ07oqq85"
      },
      "execution_count": null,
      "outputs": []
    },
    {
      "cell_type": "markdown",
      "source": [
        "### What is the topic ?\n",
        "\n",
        "Here, I am regrouping all news in major topic : EDUCATION, RELIGION, TRANSPORT, ENVIRONMENT, SOCIAL, ECONOMIC, POLITIC, INFORMATION_AND_COMMUNICATION, HEALTH, JUSTICE, SCIENCE. For that I saw that there are a lot of possible themes in GDELT so I use a pretrained models to determine under which topic each theme falls into."
      ],
      "metadata": {
        "id": "0a8TUXCyDfJm"
      }
    },
    {
      "cell_type": "code",
      "source": [
        "year = 2022\n",
        "theme = 'EDUCATION'\n",
        "newdf = all_news.loc[(all_news['year'] == year)& all_news['theme'].apply(istheme_in) ]\n",
        "newdf.head()"
      ],
      "metadata": {
        "colab": {
          "base_uri": "https://localhost:8080/",
          "height": 206
        },
        "id": "Oc2w16hnoGz5",
        "outputId": "9334bd1c-04a3-4ff6-e873-3f0e9ea40322"
      },
      "execution_count": null,
      "outputs": [
        {
          "output_type": "execute_result",
          "data": {
            "text/plain": [
              "     Unnamed: 0     country  year  \\\n",
              "231         231  Madagascar  2022   \n",
              "288         288  Madagascar  2022   \n",
              "514         514  Madagascar  2022   \n",
              "727         727  Madagascar  2022   \n",
              "980         980  Madagascar  2022   \n",
              "\n",
              "                                                 theme  count  \n",
              "231  WB_1484_EDUCATION_SKILLS_DEVELOPMENT_AND_LABOR...   1154  \n",
              "288                       WB_2141_EDUCATION_DISTRICTS      13  \n",
              "514        WB_2147_EDUCATION_RESEARCH_AND_DEVELOPMENT       2  \n",
              "727             WB_1513_EDUCATION_POLICY_AND_PLANNING       3  \n",
              "980                                  WB_470_EDUCATION    3472  "
            ],
            "text/html": [
              "\n",
              "  <div id=\"df-2124a4ca-a24f-4d92-ad15-eac8ea7601e2\">\n",
              "    <div class=\"colab-df-container\">\n",
              "      <div>\n",
              "<style scoped>\n",
              "    .dataframe tbody tr th:only-of-type {\n",
              "        vertical-align: middle;\n",
              "    }\n",
              "\n",
              "    .dataframe tbody tr th {\n",
              "        vertical-align: top;\n",
              "    }\n",
              "\n",
              "    .dataframe thead th {\n",
              "        text-align: right;\n",
              "    }\n",
              "</style>\n",
              "<table border=\"1\" class=\"dataframe\">\n",
              "  <thead>\n",
              "    <tr style=\"text-align: right;\">\n",
              "      <th></th>\n",
              "      <th>Unnamed: 0</th>\n",
              "      <th>country</th>\n",
              "      <th>year</th>\n",
              "      <th>theme</th>\n",
              "      <th>count</th>\n",
              "    </tr>\n",
              "  </thead>\n",
              "  <tbody>\n",
              "    <tr>\n",
              "      <th>231</th>\n",
              "      <td>231</td>\n",
              "      <td>Madagascar</td>\n",
              "      <td>2022</td>\n",
              "      <td>WB_1484_EDUCATION_SKILLS_DEVELOPMENT_AND_LABOR...</td>\n",
              "      <td>1154</td>\n",
              "    </tr>\n",
              "    <tr>\n",
              "      <th>288</th>\n",
              "      <td>288</td>\n",
              "      <td>Madagascar</td>\n",
              "      <td>2022</td>\n",
              "      <td>WB_2141_EDUCATION_DISTRICTS</td>\n",
              "      <td>13</td>\n",
              "    </tr>\n",
              "    <tr>\n",
              "      <th>514</th>\n",
              "      <td>514</td>\n",
              "      <td>Madagascar</td>\n",
              "      <td>2022</td>\n",
              "      <td>WB_2147_EDUCATION_RESEARCH_AND_DEVELOPMENT</td>\n",
              "      <td>2</td>\n",
              "    </tr>\n",
              "    <tr>\n",
              "      <th>727</th>\n",
              "      <td>727</td>\n",
              "      <td>Madagascar</td>\n",
              "      <td>2022</td>\n",
              "      <td>WB_1513_EDUCATION_POLICY_AND_PLANNING</td>\n",
              "      <td>3</td>\n",
              "    </tr>\n",
              "    <tr>\n",
              "      <th>980</th>\n",
              "      <td>980</td>\n",
              "      <td>Madagascar</td>\n",
              "      <td>2022</td>\n",
              "      <td>WB_470_EDUCATION</td>\n",
              "      <td>3472</td>\n",
              "    </tr>\n",
              "  </tbody>\n",
              "</table>\n",
              "</div>\n",
              "      <button class=\"colab-df-convert\" onclick=\"convertToInteractive('df-2124a4ca-a24f-4d92-ad15-eac8ea7601e2')\"\n",
              "              title=\"Convert this dataframe to an interactive table.\"\n",
              "              style=\"display:none;\">\n",
              "        \n",
              "  <svg xmlns=\"http://www.w3.org/2000/svg\" height=\"24px\"viewBox=\"0 0 24 24\"\n",
              "       width=\"24px\">\n",
              "    <path d=\"M0 0h24v24H0V0z\" fill=\"none\"/>\n",
              "    <path d=\"M18.56 5.44l.94 2.06.94-2.06 2.06-.94-2.06-.94-.94-2.06-.94 2.06-2.06.94zm-11 1L8.5 8.5l.94-2.06 2.06-.94-2.06-.94L8.5 2.5l-.94 2.06-2.06.94zm10 10l.94 2.06.94-2.06 2.06-.94-2.06-.94-.94-2.06-.94 2.06-2.06.94z\"/><path d=\"M17.41 7.96l-1.37-1.37c-.4-.4-.92-.59-1.43-.59-.52 0-1.04.2-1.43.59L10.3 9.45l-7.72 7.72c-.78.78-.78 2.05 0 2.83L4 21.41c.39.39.9.59 1.41.59.51 0 1.02-.2 1.41-.59l7.78-7.78 2.81-2.81c.8-.78.8-2.07 0-2.86zM5.41 20L4 18.59l7.72-7.72 1.47 1.35L5.41 20z\"/>\n",
              "  </svg>\n",
              "      </button>\n",
              "      \n",
              "  <style>\n",
              "    .colab-df-container {\n",
              "      display:flex;\n",
              "      flex-wrap:wrap;\n",
              "      gap: 12px;\n",
              "    }\n",
              "\n",
              "    .colab-df-convert {\n",
              "      background-color: #E8F0FE;\n",
              "      border: none;\n",
              "      border-radius: 50%;\n",
              "      cursor: pointer;\n",
              "      display: none;\n",
              "      fill: #1967D2;\n",
              "      height: 32px;\n",
              "      padding: 0 0 0 0;\n",
              "      width: 32px;\n",
              "    }\n",
              "\n",
              "    .colab-df-convert:hover {\n",
              "      background-color: #E2EBFA;\n",
              "      box-shadow: 0px 1px 2px rgba(60, 64, 67, 0.3), 0px 1px 3px 1px rgba(60, 64, 67, 0.15);\n",
              "      fill: #174EA6;\n",
              "    }\n",
              "\n",
              "    [theme=dark] .colab-df-convert {\n",
              "      background-color: #3B4455;\n",
              "      fill: #D2E3FC;\n",
              "    }\n",
              "\n",
              "    [theme=dark] .colab-df-convert:hover {\n",
              "      background-color: #434B5C;\n",
              "      box-shadow: 0px 1px 3px 1px rgba(0, 0, 0, 0.15);\n",
              "      filter: drop-shadow(0px 1px 2px rgba(0, 0, 0, 0.3));\n",
              "      fill: #FFFFFF;\n",
              "    }\n",
              "  </style>\n",
              "\n",
              "      <script>\n",
              "        const buttonEl =\n",
              "          document.querySelector('#df-2124a4ca-a24f-4d92-ad15-eac8ea7601e2 button.colab-df-convert');\n",
              "        buttonEl.style.display =\n",
              "          google.colab.kernel.accessAllowed ? 'block' : 'none';\n",
              "\n",
              "        async function convertToInteractive(key) {\n",
              "          const element = document.querySelector('#df-2124a4ca-a24f-4d92-ad15-eac8ea7601e2');\n",
              "          const dataTable =\n",
              "            await google.colab.kernel.invokeFunction('convertToInteractive',\n",
              "                                                     [key], {});\n",
              "          if (!dataTable) return;\n",
              "\n",
              "          const docLinkHtml = 'Like what you see? Visit the ' +\n",
              "            '<a target=\"_blank\" href=https://colab.research.google.com/notebooks/data_table.ipynb>data table notebook</a>'\n",
              "            + ' to learn more about interactive tables.';\n",
              "          element.innerHTML = '';\n",
              "          dataTable['output_type'] = 'display_data';\n",
              "          await google.colab.output.renderOutput(dataTable, element);\n",
              "          const docLink = document.createElement('div');\n",
              "          docLink.innerHTML = docLinkHtml;\n",
              "          element.appendChild(docLink);\n",
              "        }\n",
              "      </script>\n",
              "    </div>\n",
              "  </div>\n",
              "  "
            ]
          },
          "metadata": {},
          "execution_count": 102
        }
      ]
    },
    {
      "cell_type": "code",
      "source": [
        "def determine_topic(theme):\n",
        "  '''This function take as input the GDELT theme and return the topic'''\n",
        "  list_topic = ['EDUCATION', 'RELIGION', 'TRANSPORT', 'ENVIRONMENT', 'SOCIAL', 'ECONOMIC', 'POLITIC', 'INFORMATION_AND_COMMUNICATION', 'HEALTH', 'JUSTICE', 'SCIENCE']\n",
        "  try :\n",
        "    for topic in topic :\n",
        "      if topic in theme : \n",
        "        return(topic)\n",
        "      else : \n",
        "        predict(theme)\n",
        "  except :\n",
        "    return 'OTHER'\n"
      ],
      "metadata": {
        "id": "FCIJuewkD1kl"
      },
      "execution_count": null,
      "outputs": []
    },
    {
      "cell_type": "code",
      "source": [
        ""
      ],
      "metadata": {
        "id": "aUrR2-53D-8A"
      },
      "execution_count": null,
      "outputs": []
    },
    {
      "cell_type": "code",
      "source": [
        ""
      ],
      "metadata": {
        "id": "-NrleAxrTfs8"
      },
      "execution_count": null,
      "outputs": []
    },
    {
      "cell_type": "markdown",
      "source": [
        "### Grouping the news by the topic and dropping out the time. For each topic taking the percentage of the topic this year."
      ],
      "metadata": {
        "id": "Sm5VWjQ8Tg15"
      }
    },
    {
      "cell_type": "code",
      "source": [
        ""
      ],
      "metadata": {
        "id": "YbEO4xWZTx1w"
      },
      "execution_count": null,
      "outputs": []
    },
    {
      "cell_type": "code",
      "source": [
        ""
      ],
      "metadata": {
        "id": "6eyRGt94Txrn"
      },
      "execution_count": null,
      "outputs": []
    },
    {
      "cell_type": "markdown",
      "source": [
        "### Creating smaller datasets  for the visualization."
      ],
      "metadata": {
        "id": "8cCVU21eRAg9"
      }
    },
    {
      "cell_type": "code",
      "source": [
        ""
      ],
      "metadata": {
        "id": "KBOOAwHKmSiq"
      },
      "execution_count": null,
      "outputs": []
    },
    {
      "cell_type": "markdown",
      "source": [
        "### Visualization of the final dataset :      \n",
        "\n",
        "Here, you can visualize the dataset via Choroplet. Choose your topic of interest and the year, then run the cell. "
      ],
      "metadata": {
        "id": "vZexaeBFIgDO"
      }
    },
    {
      "cell_type": "markdown",
      "source": [
        "#### Single topic"
      ],
      "metadata": {
        "id": "979uHgC8Tz6q"
      }
    },
    {
      "cell_type": "code",
      "source": [
        "#@markdown For you to select the theme and year { run: \"auto\" }\n",
        "\n",
        "topic = \"RELIGION\" #@param [\"TRANSPORT\", \"RELIGION\", \"EDUCATION\"]\n",
        "year = \"2012\" #@param [2010,2011,2012,2013,2014,2015,2016,2017,2018,2019,2020,2021,2022]\n",
        "\n",
        "#Create figure object \n",
        "\n",
        "\n",
        "\n",
        "\n",
        "fig = go.Figure(\n",
        "    go.Choroplethmapbox(\n",
        "        geojson = 'africa.geo.json', #Assign geojson file\n",
        "        featureidkey = \"properties.COUNTYNAME\", #Assign feature key\n",
        "        locations = Dataset[\"country\"], #Assign location data\n",
        "        z = Dataset[\"count\"], #Assign information data\n",
        "        zauto = True,\n",
        "        colorscale = 'viridis',\n",
        "        showscale = True,\n",
        "    )\n",
        ")\n",
        "\n",
        "\n",
        "#Update layout\n",
        "fig.update_layout(\n",
        "    mapbox_style = \"carto-positron\", #Decide a style for the map\n",
        "    mapbox_zoom = 6, #Zoom in scale\n",
        "    mapbox_center = {\"lat\": 23.9, \"lon\": 121.52}, #Center location of the map\n",
        ")"
      ],
      "metadata": {
        "id": "UJn-mAJ2VTyH"
      },
      "execution_count": null,
      "outputs": []
    },
    {
      "cell_type": "markdown",
      "source": [
        "#### Side by Side with education"
      ],
      "metadata": {
        "id": "pdeGkExtT3Ao"
      }
    },
    {
      "cell_type": "code",
      "source": [
        ""
      ],
      "metadata": {
        "id": "mXRtgLFPT8zZ"
      },
      "execution_count": null,
      "outputs": []
    }
  ]
}